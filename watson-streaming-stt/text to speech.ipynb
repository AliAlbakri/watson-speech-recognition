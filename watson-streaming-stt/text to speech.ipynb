{
 "cells": [
  {
   "cell_type": "code",
   "execution_count": 1,
   "id": "8a4da7d7",
   "metadata": {},
   "outputs": [
    {
     "name": "stdout",
     "output_type": "stream",
     "text": [
      "Collecting ibm_watson\n",
      "  Downloading ibm-watson-5.2.2.tar.gz (407 kB)\n",
      "\u001b[K     |████████████████████████████████| 407 kB 276 kB/s eta 0:00:01\n",
      "\u001b[?25h  Installing build dependencies ... \u001b[?25ldone\n",
      "\u001b[?25h  Getting requirements to build wheel ... \u001b[?25ldone\n",
      "\u001b[?25h    Preparing wheel metadata ... \u001b[?25ldone\n",
      "\u001b[?25hRequirement already satisfied: requests<3.0,>=2.0 in /Users/aliahmad/Developer/flask/venv/lib/python3.9/site-packages (from ibm_watson) (2.26.0)\n",
      "Collecting ibm-cloud-sdk-core==3.*,>=3.3.6\n",
      "  Downloading ibm-cloud-sdk-core-3.10.1.tar.gz (40 kB)\n",
      "\u001b[K     |████████████████████████████████| 40 kB 4.2 MB/s eta 0:00:011\n",
      "\u001b[?25hRequirement already satisfied: python-dateutil>=2.5.3 in /Users/aliahmad/Developer/flask/venv/lib/python3.9/site-packages (from ibm_watson) (2.8.2)\n",
      "Requirement already satisfied: websocket-client==1.1.0 in /Users/aliahmad/Developer/flask/venv/lib/python3.9/site-packages (from ibm_watson) (1.1.0)\n",
      "Collecting PyJWT<3.0.0,>=2.0.1\n",
      "  Downloading PyJWT-2.1.0-py3-none-any.whl (16 kB)\n",
      "Requirement already satisfied: six>=1.5 in /Users/aliahmad/Developer/flask/venv/lib/python3.9/site-packages (from python-dateutil>=2.5.3->ibm_watson) (1.16.0)\n",
      "Requirement already satisfied: urllib3<1.27,>=1.21.1 in /Users/aliahmad/Developer/flask/venv/lib/python3.9/site-packages (from requests<3.0,>=2.0->ibm_watson) (1.26.6)\n",
      "Requirement already satisfied: charset-normalizer~=2.0.0 in /Users/aliahmad/Developer/flask/venv/lib/python3.9/site-packages (from requests<3.0,>=2.0->ibm_watson) (2.0.3)\n",
      "Requirement already satisfied: idna<4,>=2.5 in /Users/aliahmad/Developer/flask/venv/lib/python3.9/site-packages (from requests<3.0,>=2.0->ibm_watson) (3.2)\n",
      "Requirement already satisfied: certifi>=2017.4.17 in /Users/aliahmad/Developer/flask/venv/lib/python3.9/site-packages (from requests<3.0,>=2.0->ibm_watson) (2021.5.30)\n",
      "Using legacy 'setup.py install' for ibm-cloud-sdk-core, since package 'wheel' is not installed.\n",
      "Building wheels for collected packages: ibm-watson\n",
      "  Building wheel for ibm-watson (PEP 517) ... \u001b[?25ldone\n",
      "\u001b[?25h  Created wheel for ibm-watson: filename=ibm_watson-5.2.2-py3-none-any.whl size=403389 sha256=a210b66104824aa40af59958da7d75724ad1349cd76ac9a6d736536deea1d4b7\n",
      "  Stored in directory: /Users/aliahmad/Library/Caches/pip/wheels/34/e8/df/99bea14508f3730b081509ae94a9fb3e876f33aeb465688532\n",
      "Successfully built ibm-watson\n",
      "Installing collected packages: PyJWT, ibm-cloud-sdk-core, ibm-watson\n",
      "    Running setup.py install for ibm-cloud-sdk-core ... \u001b[?25ldone\n",
      "\u001b[?25hSuccessfully installed PyJWT-2.1.0 ibm-cloud-sdk-core-3.10.1 ibm-watson-5.2.2\n"
     ]
    }
   ],
   "source": [
    "!pip install ibm_watson"
   ]
  },
  {
   "cell_type": "code",
   "execution_count": 3,
   "id": "90ea7000",
   "metadata": {},
   "outputs": [],
   "source": [
    "from ibm_watson import TextToSpeechV1\n",
    "from ibm_cloud_sdk_core.authenticators import IAMAuthenticator"
   ]
  },
  {
   "cell_type": "code",
   "execution_count": 4,
   "id": "80273c4d",
   "metadata": {},
   "outputs": [],
   "source": [
    "apikey = 'lrempRplz60Xq0Cviu4PxcShgfNcbZqEbxPoAqukzD_q'\n",
    "url = 'https://api.us-south.text-to-speech.watson.cloud.ibm.com/instances/bb42d3ef-3f5d-47af-b55e-465d45616fd1'"
   ]
  },
  {
   "cell_type": "code",
   "execution_count": 5,
   "id": "29ce2950",
   "metadata": {},
   "outputs": [],
   "source": [
    "# Setup Service\n",
    "authenticator = IAMAuthenticator(apikey)\n",
    "tts = TextToSpeechV1(authenticator=authenticator)\n",
    "tts.set_service_url(url)"
   ]
  },
  {
   "cell_type": "code",
   "execution_count": 8,
   "id": "454d258e",
   "metadata": {},
   "outputs": [],
   "source": [
    "with open('./speech.mp3', 'wb') as audio_file:\n",
    "    res = tts.synthesize('Hello ali albakri, thanks smart methods!', accept='audio/mp3', voice='en-US_AllisonV3Voice').get_result()\n",
    "    audio_file.write(res.content)"
   ]
  },
  {
   "cell_type": "code",
   "execution_count": null,
   "id": "3696893f",
   "metadata": {},
   "outputs": [],
   "source": []
  }
 ],
 "metadata": {
  "kernelspec": {
   "display_name": "Python 3 (ipykernel)",
   "language": "python",
   "name": "python3"
  },
  "language_info": {
   "codemirror_mode": {
    "name": "ipython",
    "version": 3
   },
   "file_extension": ".py",
   "mimetype": "text/x-python",
   "name": "python",
   "nbconvert_exporter": "python",
   "pygments_lexer": "ipython3",
   "version": "3.9.6"
  }
 },
 "nbformat": 4,
 "nbformat_minor": 5
}
